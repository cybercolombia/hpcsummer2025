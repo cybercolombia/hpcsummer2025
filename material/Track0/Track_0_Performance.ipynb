{
 "cells": [
  {
   "cell_type": "markdown",
   "id": "2d0bac3e",
   "metadata": {},
   "source": [
    "## ========================= Performance =========================\n",
    "\n",
    "### Terms\n",
    "- **$N$:** Number of software threads.\n",
    "- **$P$:** Number of compute units.\n",
    "- **$T_P$:** Execution time using $P$ parallel compute units.\n",
    "- **$T_{\\infty}$:** Execution time when $P\\rightarrow\\infty$.\n",
    "- **$T_{sec}$:** Sequential execution time. It refers to the time that takes to execute the parts of the program which are not parallelizable.\n",
    "- **$T_{oh}$:** Overhead time. It refers to the extra computing time invested in tasks like creating and destroying threads, partitioning, copying and loading data for thread use, etc. \n",
    "\n",
    "Note that $N$ and $P$ are different concepts. If $N<P$ then some of the compute units remain idle during the computation. If $N=P$, each thread runs on a compute unit (hardware thread). If $N>P$, some threads will have to wait until a compute unit becomes available to execute them.<br>\n",
    "\n",
    "### Performance metrics for parallelism\n",
    "- **Span:** $T_{\\infty}$. Execution time is the smallest when the maximum number of threads that can run the program simultaneously can do so on a separate compute unit: $P\\rightarrow\\infty$, then $T_P\\geq T_{\\infty}$.\n",
    "- **Speedup:** $T_1/T_P$. At most, speedup grows linearly with $P$: $T_1/T_P=\\Theta(P)$. \n",
    "- **Parallelism:** $T_1/T_\\infty$. Is the maximum theoretical speedup.\n",
    "- **Work:** $PT_P$. It is minimum when $P=1$, so $T_P\\geq T_1/P$.\n",
    "- **Efficiency:** $T_1/(PT_P)$. \n"
   ]
  },
  {
   "cell_type": "markdown",
   "id": "1956b38b",
   "metadata": {},
   "source": [
    "### Ahmdal's argument\n",
    "Define the serial fraction:\n",
    "$$\\gamma=\\frac{T_{sec}}{T_1},$$\n",
    "then\n",
    "$$T_P=T_{sec}+\\frac{1}{P}(T_1-T_{sec})+T_{oh}$$\n",
    "which, in terms of the serial fraction gives\n",
    "$$T_P=T_1\\left(\\gamma+\\frac{1}{P}(1-\\gamma)+\\gamma_{oh}\\right),$$\n",
    "where $\\gamma_{oh}=T_{oh}/T_1$.<br>\n",
    "\n",
    "This means that the speedup $S(P)$ when using $P$ computing units is\n",
    "$$S(P)=\\frac{1}{\\gamma+(1-\\gamma)/P+\\gamma_{oh}}.$$\n",
    "Lineal speedup is attained when $\\gamma\\rightarrow 0$ and $\\gamma_{oh}\\rightarrow 0$.<br>\n",
    "\n",
    "#### Plotting the theoretical speedup\n",
    "Here, $n$ represents the size of the problem. In the following plot, the size of both the sequential and parallel regions grows as $n$:\n",
    "\n",
    "<img src=\"figures/speedup-1.png\" width=600/>\n",
    "\n",
    "In the next plot, the size of the sequential region remains constant while the size of the parallel region grows as $n$:\n",
    "\n",
    "<img src=\"figures/speedup1-1.png\" width=600/>"
   ]
  },
  {
   "cell_type": "markdown",
   "id": "4f7493fd",
   "metadata": {},
   "source": [
    "## ==================== Speedup experiment ====================="
   ]
  },
  {
   "cell_type": "markdown",
   "id": "55606721",
   "metadata": {},
   "source": [
    "### Sequential program"
   ]
  },
  {
   "cell_type": "markdown",
   "id": "5a00dccd",
   "metadata": {},
   "source": [
    "<div class=\"alert alert-success\">\n",
    "\n",
    "`seq_add.py`\n",
    "```python\n",
    "from time import sleep, perf_counter\n",
    "\n",
    "# Sequential vector addition\n",
    "def vector_sum(v1, v2):\n",
    "    try: \n",
    "        if len(v1) != len(v2):\n",
    "            raise Exception('The two vectors do not have the same number of elements.')\n",
    "        res = [0 for i in range(len(v1))]\n",
    "        \n",
    "        for i in range(len(v1)):\n",
    "            sleep(delay)\n",
    "            res[i] = v1[i] + v2[i]\n",
    "            \n",
    "        return res\n",
    "    \n",
    "    except Exception as error:\n",
    "        print(error)\n",
    "        \n",
    "# Measure the average execution time of a sequential run\n",
    "def seq_run(v1, v2, Ntrials):\n",
    "    start_time = perf_counter()\n",
    "    for i in range(Ntrials):\n",
    "        res = vector_sum(v1,v2)\n",
    "    end_time = perf_counter()\n",
    "        \n",
    "    return res, (end_time-start_time)/Ntrials\n",
    "```\n",
    "</div>"
   ]
  },
  {
   "cell_type": "markdown",
   "id": "bf4804b2",
   "metadata": {},
   "source": [
    "### Parallel program"
   ]
  },
  {
   "cell_type": "markdown",
   "id": "85fcfdf9",
   "metadata": {},
   "source": [
    "<div class=\"alert alert-success\">\n",
    "\n",
    "`paral_add.py`\n",
    "```python\n",
    "from time import sleep, perf_counter\n",
    "from threading import Thread\n",
    "\n",
    "# Add vector's elements from ini to fin-1\n",
    "def add(x, y, z, ini, fin):\n",
    "    for i in range(ini, fin):\n",
    "        sleep(delay)\n",
    "        z[i] = x[i] + y[i]\n",
    "\n",
    "# Parallelized vector addition\n",
    "def par_vector_sum(v1, v2, n_thr):\n",
    "    try: \n",
    "        if len(v1) != len(v2):\n",
    "            raise Exception('The two vectors do not have the same number of elements.')\n",
    "        res = [0 for i in range(len(v1))]\n",
    "        \n",
    "        n_thr = min(n_thr, len(v1)) #Number of threds <= length of the vectors\n",
    "        \n",
    "        chunk_size = len(v1) // n_thr + 1 #No. of tasks for each thread\n",
    "        \n",
    "        #Create the threads\n",
    "        threads = []\n",
    "        for i in range(n_thr):\n",
    "            ini = i*chunk_size\n",
    "            fin = min(ini + chunk_size, len(v1))\n",
    "            threads.append(Thread(target=add, args=(v1, v2, res, ini, fin)))\n",
    "        \n",
    "        # Start the threads\n",
    "        for thr in threads:\n",
    "            thr.start()\n",
    "\n",
    "        # Wait for the threads to complete\n",
    "        for thr in threads:\n",
    "            thr.join()\n",
    "        return res, n_thr\n",
    "    \n",
    "    except Exception as error:\n",
    "        print(error)\n",
    "    \n",
    "# Measure the average execution time of a parallel run\n",
    "def par_run(v1, v2, Ntrials, n_thr):\n",
    "    start_time = perf_counter()\n",
    "    for i in range(Ntrials):\n",
    "        res, n_thr = par_vector_sum(v1,v2,n_thr)\n",
    "    end_time = perf_counter()\n",
    "    \n",
    "    return res, (end_time-start_time)/Ntrials\n",
    "```\n",
    "</div>"
   ]
  },
  {
   "cell_type": "markdown",
   "id": "e1aa54c5",
   "metadata": {},
   "source": [
    "### Test"
   ]
  },
  {
   "cell_type": "markdown",
   "id": "f3d0a8bb",
   "metadata": {},
   "source": [
    "<div class=\"alert alert-success\">\n",
    "\n",
    "`example6.py`\n",
    "```python\n",
    "from seq_add import seq_run\n",
    "\n",
    "# Sequential test\n",
    "\n",
    "# Declare and initialize the input\n",
    "sz = 1000\n",
    "v1 = [1 for i in range(sz)]\n",
    "v2 = [2 for i in range(sz)]\n",
    "\n",
    "Ntrials = 100\n",
    "\n",
    "res, seq_time = seq_run(v1, v2, Ntrials)\n",
    "\n",
    "##Check result\n",
    "assert res == [3 for i in range(sz)]\n",
    "\n",
    "print(\"Secuential addition.\")\n",
    "print(\"Time: {0:.7f}\".format(seq_time))\n",
    "```\n",
    "</div>"
   ]
  },
  {
   "cell_type": "code",
   "execution_count": 1,
   "id": "d3978f0d",
   "metadata": {},
   "outputs": [
    {
     "name": "stdout",
     "output_type": "stream",
     "text": [
      "Secuential addition.\n",
      "Time: 0.0629405\n"
     ]
    }
   ],
   "source": [
    "#!srun -N 1 -c 8 python3.10 code/example6.py\n",
    "!python code/example6.py"
   ]
  },
  {
   "cell_type": "markdown",
   "id": "29a6ef64",
   "metadata": {},
   "source": [
    "<div class=\"alert alert-success\">\n",
    "\n",
    "`example7.py`\n",
    "```python\n",
    "from sys import argv\n",
    "from paral_add import par_run\n",
    "\n",
    "# Parallel test\n",
    "\n",
    "code, seq_time = argv\n",
    "seq_time = float(seq_time)\n",
    "\n",
    "# Declare and initialize the input\n",
    "sz = 1000\n",
    "v1 = [1 for i in range(sz)]\n",
    "v2 = [2 for i in range(sz)]\n",
    "\n",
    "Ntrials = 100\n",
    "\n",
    "#Number of threads\n",
    "nt = 4\n",
    "res, par_time = par_run(v1, v2, Ntrials, nt)\n",
    "\n",
    "##Check result\n",
    "assert res == [3 for i in range(sz)]\n",
    "\n",
    "print(\"No. of threds: {0}\".format(nt))\n",
    "print(\"Time: {0:.7f}\".format(par_time))\n",
    "print(\"Speedup: {0:.3f}\".format(seq_time/par_time))\n",
    "```\n",
    "</div>"
   ]
  },
  {
   "cell_type": "code",
   "execution_count": 2,
   "id": "9726d40a",
   "metadata": {},
   "outputs": [
    {
     "name": "stdout",
     "output_type": "stream",
     "text": [
      "No. of threds: 4\n",
      "Time: 0.0163581\n",
      "Speedup: 3.843\n"
     ]
    }
   ],
   "source": [
    "#!srun -N 1 -c 8 python3.10 code/example7.py 0.0628672\n",
    "!python code/example7.py 0.0628672"
   ]
  },
  {
   "cell_type": "markdown",
   "id": "94b289a9",
   "metadata": {},
   "source": [
    "### Plot speedup"
   ]
  },
  {
   "cell_type": "markdown",
   "id": "886d8302",
   "metadata": {},
   "source": [
    "<div class=\"alert alert-success\">\n",
    "\n",
    "`speedup.py`\n",
    "```python\n",
    "import matplotlib.pyplot as plt\n",
    "from seq_add import seq_run\n",
    "from paral_add import par_run\n",
    "from matplotlib import rc\n",
    "rc('text',usetex=True)\n",
    "\n",
    "# Declare and initialize the input\n",
    "sz = 1000\n",
    "v1 = [1 for i in range(sz)]\n",
    "v2 = [2 for i in range(sz)]\n",
    "Ntrials = 100\n",
    "\n",
    "#Perform the computations for  different number of cores\n",
    "res, seq_time = seq_run(v1, v2, Ntrials)\n",
    "\n",
    "speedups = []\n",
    "procs = [i for i in range(1,7)]\n",
    "for P in procs:\n",
    "    res, par_time = par_run(v1, v2, Ntrials, P)\n",
    "    speedups.append(seq_time/par_time)\n",
    "```\n",
    "</div>"
   ]
  },
  {
   "cell_type": "code",
   "execution_count": 3,
   "id": "ee9ee8fb",
   "metadata": {},
   "outputs": [],
   "source": [
    "#!srun -N 1 -c 8 python3.10 code/speedup.py\n",
    "!python code/speedup.py"
   ]
  },
  {
   "cell_type": "code",
   "execution_count": 4,
   "id": "fbe73f3f",
   "metadata": {},
   "outputs": [
    {
     "data": {
      "image/png": "[encoded data removed]",
      "text/plain": [
       "<Figure size 800x800 with 1 Axes>"
      ]
     },
     "metadata": {},
     "output_type": "display_data"
    }
   ],
   "source": [
    "import matplotlib.pyplot as plt\n",
    "\n",
    "#Load data\n",
    "procs = []\n",
    "speedups = []\n",
    "with open(\"code/spdup_data.dat\", \"r\") as ifile:\n",
    "    for line in ifile:\n",
    "        v = list(map(float, line.split()))\n",
    "        procs.append(v[0])\n",
    "        speedups.append(v[1])\n",
    "\n",
    "#Plot data\n",
    "fig, ax = plt.subplots(1, 1, figsize=(8,8))\n",
    "ax.plot(procs, speedups, marker='o')\n",
    "ax.set_xlabel(\"P\", fontsize=20)\n",
    "ax.set_ylabel(\"S(P)\", fontsize=20)\n",
    "ax.tick_params(axis='both', which='major', labelsize=20)"
   ]
  },
  {
   "cell_type": "markdown",
   "id": "0ec5b7e4",
   "metadata": {},
   "source": [
    "---------------------------------------------"
   ]
  }
 ],
 "metadata": {
  "kernelspec": {
   "display_name": "hpcssenv",
   "language": "python",
   "name": "hpcssenv"
  },
  "language_info": {
   "codemirror_mode": {
    "name": "ipython",
    "version": 3
   },
   "file_extension": ".py",
   "mimetype": "text/x-python",
   "name": "python",
   "nbconvert_exporter": "python",
   "pygments_lexer": "ipython3",
   "version": "3.12.3"
  }
 },
 "nbformat": 4,
 "nbformat_minor": 5
}
